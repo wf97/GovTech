{
 "cells": [
  {
   "cell_type": "code",
   "execution_count": 1,
   "id": "e58f37c3",
   "metadata": {},
   "outputs": [],
   "source": [
    "import requests\n",
    "\n",
    "import json\n",
    "import pandas as pd\n",
    "from datetime import datetime, timezone, timedelta\n",
    "from dateutil.parser import parse\n",
    "\n",
    "import plotly.express as px\n",
    "import plotly.graph_objects as go\n",
    "import dash\n",
    "from dash import dcc\n",
    "from dash import html\n",
    "from dash.dependencies import Input, Output"
   ]
  },
  {
   "cell_type": "code",
   "execution_count": null,
   "id": "c75830c6",
   "metadata": {},
   "outputs": [],
   "source": []
  },
  {
   "cell_type": "code",
   "execution_count": 2,
   "id": "252b4eb0",
   "metadata": {},
   "outputs": [
    {
     "name": "stdout",
     "output_type": "stream",
     "text": [
      "Dash is running on http://127.0.0.1:8050/\n",
      "\n",
      " * Serving Flask app \"__main__\" (lazy loading)\n",
      " * Environment: production\n",
      "   WARNING: This is a development server. Do not use it in a production deployment.\n",
      "   Use a production WSGI server instead.\n",
      " * Debug mode: off\n"
     ]
    },
    {
     "name": "stderr",
     "output_type": "stream",
     "text": [
      " * Running on http://127.0.0.1:8050/ (Press CTRL+C to quit)\n",
      "127.0.0.1 - - [24/Sep/2021 23:03:52] \"\u001b[37mGET / HTTP/1.1\u001b[0m\" 200 -\n",
      "127.0.0.1 - - [24/Sep/2021 23:03:52] \"\u001b[37mGET /_dash-layout HTTP/1.1\u001b[0m\" 200 -\n",
      "127.0.0.1 - - [24/Sep/2021 23:03:52] \"\u001b[37mGET /_dash-dependencies HTTP/1.1\u001b[0m\" 200 -\n",
      "127.0.0.1 - - [24/Sep/2021 23:03:52] \"\u001b[37mGET /_dash-component-suites/dash/dcc/async-dropdown.js HTTP/1.1\u001b[0m\" 200 -\n",
      "127.0.0.1 - - [24/Sep/2021 23:03:52] \"\u001b[37mGET /_dash-component-suites/dash/dcc/async-graph.js HTTP/1.1\u001b[0m\" 200 -\n",
      "127.0.0.1 - - [24/Sep/2021 23:03:52] \"\u001b[37mGET /_favicon.ico?v=2.0.0 HTTP/1.1\u001b[0m\" 200 -\n",
      "127.0.0.1 - - [24/Sep/2021 23:03:52] \"\u001b[37mGET /_dash-component-suites/dash/dcc/async-plotlyjs.js HTTP/1.1\u001b[0m\" 200 -\n",
      "127.0.0.1 - - [24/Sep/2021 23:03:52] \"\u001b[37mPOST /_dash-update-component HTTP/1.1\u001b[0m\" 200 -\n"
     ]
    },
    {
     "name": "stdout",
     "output_type": "stream",
     "text": [
      "D Confirmed N\n"
     ]
    },
    {
     "name": "stderr",
     "output_type": "stream",
     "text": [
      "127.0.0.1 - - [24/Sep/2021 23:03:54] \"\u001b[37mPOST /_dash-update-component HTTP/1.1\u001b[0m\" 200 -\n"
     ]
    },
    {
     "name": "stdout",
     "output_type": "stream",
     "text": [
      "D Confirmed C\n"
     ]
    },
    {
     "name": "stderr",
     "output_type": "stream",
     "text": [
      "127.0.0.1 - - [24/Sep/2021 23:04:33] \"\u001b[37mPOST /_dash-update-component HTTP/1.1\u001b[0m\" 200 -\n"
     ]
    },
    {
     "name": "stdout",
     "output_type": "stream",
     "text": [
      "D Confirmed N\n"
     ]
    },
    {
     "name": "stderr",
     "output_type": "stream",
     "text": [
      "127.0.0.1 - - [24/Sep/2021 23:04:45] \"\u001b[37mPOST /_dash-update-component HTTP/1.1\u001b[0m\" 200 -\n"
     ]
    },
    {
     "name": "stdout",
     "output_type": "stream",
     "text": [
      "D Deaths N\n"
     ]
    },
    {
     "name": "stderr",
     "output_type": "stream",
     "text": [
      "127.0.0.1 - - [24/Sep/2021 23:04:47] \"\u001b[37mPOST /_dash-update-component HTTP/1.1\u001b[0m\" 200 -\n"
     ]
    },
    {
     "name": "stdout",
     "output_type": "stream",
     "text": [
      "D Deaths C\n"
     ]
    }
   ],
   "source": [
    "def request_data():\n",
    "    res = requests.get('https://api.covid19api.com/country/singapore')\n",
    "    data=res.json()\n",
    "    df = pd.json_normalize(data)\n",
    "    return df\n",
    "\n",
    "def process_data():\n",
    "    df = request_data()\n",
    "    df = df.loc[:,['Date', 'Confirmed', 'Deaths', 'Recovered', 'Active']]\n",
    "    df['Date'] = df['Date'].apply(parse)\n",
    "    df = df.set_index('Date')\n",
    "    df = df.replace(to_replace=0, method='ffill')\n",
    "    df = (df - df.shift(1)).fillna(0).astype('Int64')\n",
    "    return df\n",
    "\n",
    "\n",
    "df = process_data()\n",
    "\n",
    "\n",
    "\n",
    "app = dash.Dash()\n",
    "\n",
    "\n",
    "app.layout = html.Div(id = 'parent', \n",
    "                      children = [\n",
    "                          html.H1(id = 'H1', \n",
    "                                  children = 'Covid19 Statistics in Singapore', \n",
    "                                  style = {'textAlign':'center','marginTop':40,'marginBottom':40}),\n",
    "                          \n",
    "                          dcc.Dropdown(id='frequency',\n",
    "                                       options = [\n",
    "                                           {'label':'Daily', 'value':'D' },\n",
    "                                           {'label': 'Monthly', 'value':'M'},\n",
    "                                       ], value = 'D'),\n",
    "                          dcc.Dropdown(id='type',\n",
    "                                       options = [\n",
    "                                           {'label':'Confirmed Cases', 'value':'Confirmed' },\n",
    "                                           {'label': 'Deaths', 'value':'Deaths'},\n",
    "                                           {'label': 'Actives', 'value':'Active'},\n",
    "                                           {'label': 'Recovered', 'value':'Recovered'},\n",
    "                                       ], value = 'Confirmed'),\n",
    "                          dcc.Dropdown(id='value',\n",
    "                                       options = [\n",
    "                                           {'label':'Non-Cumulative', 'value':'N' },\n",
    "                                           {'label': 'Cumulative', 'value':'C'},\n",
    "                                       ], value = 'N'),\n",
    "        \n",
    "                          dcc.Graph(id='bar_plot')])\n",
    "\n",
    "@app.callback(Output(component_id='bar_plot', component_property= 'figure'),\n",
    "              [Input(component_id='frequency', component_property= 'value'), \n",
    "               Input(component_id='type', component_property= 'value'), \n",
    "               Input(component_id='value', component_property= 'value')],)\n",
    "\n",
    "def graph_update(dropdown_value1, dropdown_value2, dropdown_value3):\n",
    "    print(dropdown_value1, dropdown_value2, dropdown_value3)\n",
    "    data = df.resample(dropdown_value1).sum()\n",
    "    if dropdown_value3 == 'C':\n",
    "        data = data.cumsum()\n",
    "    fig = go.Figure([go.Scatter(x = data.index, \n",
    "                                y = data[dropdown_value2],\n",
    "                                line = dict(color = 'cyan', width = 4))\n",
    "                     ])\n",
    "    \n",
    "    fig.update_layout(title = 'Covid19 Statistics in Singapore',\n",
    "                      xaxis_title = 'Dates',\n",
    "                      yaxis_title = 'Cases'\n",
    "                      )\n",
    "    return fig  \n",
    "\n",
    "\n",
    "\n",
    "if __name__ == '__main__': \n",
    "    app.run_server()"
   ]
  },
  {
   "cell_type": "code",
   "execution_count": null,
   "id": "64822242",
   "metadata": {},
   "outputs": [],
   "source": []
  }
 ],
 "metadata": {
  "kernelspec": {
   "display_name": "Python 3",
   "language": "python",
   "name": "python3"
  },
  "language_info": {
   "codemirror_mode": {
    "name": "ipython",
    "version": 3
   },
   "file_extension": ".py",
   "mimetype": "text/x-python",
   "name": "python",
   "nbconvert_exporter": "python",
   "pygments_lexer": "ipython3",
   "version": "3.8.8"
  }
 },
 "nbformat": 4,
 "nbformat_minor": 5
}
