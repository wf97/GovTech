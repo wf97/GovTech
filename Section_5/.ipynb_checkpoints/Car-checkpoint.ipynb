{
 "cells": [
  {
   "cell_type": "markdown",
   "id": "e89b0c5a",
   "metadata": {},
   "source": [
    "1. Title: Car Evaluation Database\n",
    "\n",
    "2. Sources:\n",
    "   (a) Creator: Marko Bohanec\n",
    "   (b) Donors: Marko Bohanec   (marko.bohanec@ijs.si)\n",
    "               Blaz Zupan      (blaz.zupan@ijs.si)\n",
    "   (c) Date: June, 1997\n",
    "\n",
    "3. Past Usage:\n",
    "\n",
    "   The hierarchical decision model, from which this dataset is\n",
    "   derived, was first presented in \n",
    "\n",
    "   M. Bohanec and V. Rajkovic: Knowledge acquisition and explanation for\n",
    "   multi-attribute decision making. In 8th Intl Workshop on Expert\n",
    "   Systems and their Applications, Avignon, France. pages 59-78, 1988.\n",
    "\n",
    "   Within machine-learning, this dataset was used for the evaluation\n",
    "   of HINT (Hierarchy INduction Tool), which was proved to be able to\n",
    "   completely reconstruct the original hierarchical model. This,\n",
    "   together with a comparison with C4.5, is presented in\n",
    "\n",
    "   B. Zupan, M. Bohanec, I. Bratko, J. Demsar: Machine learning by\n",
    "   function decomposition. ICML-97, Nashville, TN. 1997 (to appear)\n",
    "\n",
    "4. Relevant Information Paragraph:\n",
    "\n",
    "   Car Evaluation Database was derived from a simple hierarchical\n",
    "   decision model originally developed for the demonstration of DEX\n",
    "   (M. Bohanec, V. Rajkovic: Expert system for decision\n",
    "   making. Sistemica 1(1), pp. 145-157, 1990.). The model evaluates\n",
    "   cars according to the following concept structure:\n",
    "\n",
    "   CAR                      car acceptability\n",
    "   . PRICE                  overall price\n",
    "   . . buying               buying price\n",
    "   . . maint                price of the maintenance\n",
    "   . TECH                   technical characteristics\n",
    "   . . COMFORT              comfort\n",
    "   . . . doors              number of doors\n",
    "   . . . persons            capacity in terms of persons to carry\n",
    "   . . . lug_boot           the size of luggage boot\n",
    "   . . safety               estimated safety of the car\n",
    "\n",
    "   Input attributes are printed in lowercase. Besides the target\n",
    "   concept (CAR), the model includes three intermediate concepts:\n",
    "   PRICE, TECH, COMFORT. Every concept is in the original model\n",
    "   related to its lower level descendants by a set of examples (for\n",
    "   these examples sets see http://www-ai.ijs.si/BlazZupan/car.html).\n",
    "\n",
    "   The Car Evaluation Database contains examples with the structural\n",
    "   information removed, i.e., directly relates CAR to the six input\n",
    "   attributes: buying, maint, doors, persons, lug_boot, safety.\n",
    "\n",
    "   Because of known underlying concept structure, this database may be\n",
    "   particularly useful for testing constructive induction and\n",
    "   structure discovery methods.\n",
    "\n",
    "5. Number of Instances: 1728\n",
    "   (instances completely cover the attribute space)\n",
    "\n",
    "6. Number of Attributes: 6\n",
    "\n",
    "7. Attribute Values:\n",
    "\n",
    "   buying       v-high, high, med, low\n",
    "   maint        v-high, high, med, low\n",
    "   doors        2, 3, 4, 5-more\n",
    "   persons      2, 4, more\n",
    "   lug_boot     small, med, big\n",
    "   safety       low, med, high\n",
    "\n",
    "8. Missing Attribute Values: none\n",
    "\n",
    "9. Class Distribution (number of instances per class)\n",
    "\n",
    "| class | N | N[%] | \n",
    "| -: | :-: | :-: | \n",
    "| unacc | 1210  |   (70.023 %) \n",
    "|    acc    |    384  |   (22.222 %) \n",
    "|   good    |    69  |   ( 3.993 %) \n",
    "|   v-good   |   65   |  ( 3.762 %) "
   ]
  },
  {
   "cell_type": "code",
   "execution_count": 138,
   "id": "2d220205",
   "metadata": {
    "cell_id": "00000-820a753d-50a8-485f-9439-2b3578849cf5",
    "deepnote_cell_type": "code",
    "deepnote_to_be_reexecuted": false,
    "execution_millis": 2581,
    "execution_start": 1631699312188,
    "source_hash": "2c7ca21c"
   },
   "outputs": [],
   "source": [
    "import pandas as pd\n",
    "import numpy as np\n",
    "import seaborn as sns\n",
    "import matplotlib.pyplot as plt\n",
    "%matplotlib inline\n",
    "\n",
    "import category_encoders as ce\n",
    "from sklearn.linear_model import LogisticRegression\n",
    "from sklearn.svm import SVC\n",
    "from sklearn.tree import DecisionTreeClassifier\n",
    "from sklearn.ensemble import AdaBoostClassifier\n",
    "from sklearn.model_selection import train_test_split, GridSearchCV\n",
    "from sklearn.preprocessing import MinMaxScaler\n",
    "from sklearn.metrics import confusion_matrix, accuracy_score, f1_score, precision_recall_fscore_support"
   ]
  },
  {
   "cell_type": "code",
   "execution_count": 65,
   "id": "242d7fc8",
   "metadata": {},
   "outputs": [
    {
     "data": {
      "text/html": [
       "<div>\n",
       "<style scoped>\n",
       "    .dataframe tbody tr th:only-of-type {\n",
       "        vertical-align: middle;\n",
       "    }\n",
       "\n",
       "    .dataframe tbody tr th {\n",
       "        vertical-align: top;\n",
       "    }\n",
       "\n",
       "    .dataframe thead th {\n",
       "        text-align: right;\n",
       "    }\n",
       "</style>\n",
       "<table border=\"1\" class=\"dataframe\">\n",
       "  <thead>\n",
       "    <tr style=\"text-align: right;\">\n",
       "      <th></th>\n",
       "      <th>buying</th>\n",
       "      <th>maint</th>\n",
       "      <th>doors</th>\n",
       "      <th>persons</th>\n",
       "      <th>lug_boot</th>\n",
       "      <th>safety</th>\n",
       "      <th>y</th>\n",
       "    </tr>\n",
       "  </thead>\n",
       "  <tbody>\n",
       "    <tr>\n",
       "      <th>0</th>\n",
       "      <td>vhigh</td>\n",
       "      <td>vhigh</td>\n",
       "      <td>2</td>\n",
       "      <td>2</td>\n",
       "      <td>small</td>\n",
       "      <td>low</td>\n",
       "      <td>unacc</td>\n",
       "    </tr>\n",
       "    <tr>\n",
       "      <th>1</th>\n",
       "      <td>vhigh</td>\n",
       "      <td>vhigh</td>\n",
       "      <td>2</td>\n",
       "      <td>2</td>\n",
       "      <td>small</td>\n",
       "      <td>med</td>\n",
       "      <td>unacc</td>\n",
       "    </tr>\n",
       "    <tr>\n",
       "      <th>2</th>\n",
       "      <td>vhigh</td>\n",
       "      <td>vhigh</td>\n",
       "      <td>2</td>\n",
       "      <td>2</td>\n",
       "      <td>small</td>\n",
       "      <td>high</td>\n",
       "      <td>unacc</td>\n",
       "    </tr>\n",
       "    <tr>\n",
       "      <th>3</th>\n",
       "      <td>vhigh</td>\n",
       "      <td>vhigh</td>\n",
       "      <td>2</td>\n",
       "      <td>2</td>\n",
       "      <td>med</td>\n",
       "      <td>low</td>\n",
       "      <td>unacc</td>\n",
       "    </tr>\n",
       "    <tr>\n",
       "      <th>4</th>\n",
       "      <td>vhigh</td>\n",
       "      <td>vhigh</td>\n",
       "      <td>2</td>\n",
       "      <td>2</td>\n",
       "      <td>med</td>\n",
       "      <td>med</td>\n",
       "      <td>unacc</td>\n",
       "    </tr>\n",
       "  </tbody>\n",
       "</table>\n",
       "</div>"
      ],
      "text/plain": [
       "  buying  maint doors persons lug_boot safety      y\n",
       "0  vhigh  vhigh     2       2    small    low  unacc\n",
       "1  vhigh  vhigh     2       2    small    med  unacc\n",
       "2  vhigh  vhigh     2       2    small   high  unacc\n",
       "3  vhigh  vhigh     2       2      med    low  unacc\n",
       "4  vhigh  vhigh     2       2      med    med  unacc"
      ]
     },
     "execution_count": 65,
     "metadata": {},
     "output_type": "execute_result"
    }
   ],
   "source": [
    "column_headers = ['buying', 'maint', 'doors', 'persons', 'lug_boot', 'safety', 'y']\n",
    "data = pd.read_csv('./car.data', names=column_headers, index_col=False)\n",
    "data.head(5)"
   ]
  },
  {
   "cell_type": "code",
   "execution_count": 66,
   "id": "cce7f01e",
   "metadata": {},
   "outputs": [
    {
     "data": {
      "text/plain": [
       "(1728, 7)"
      ]
     },
     "execution_count": 66,
     "metadata": {},
     "output_type": "execute_result"
    }
   ],
   "source": [
    "data.shape"
   ]
  },
  {
   "cell_type": "markdown",
   "id": "82859c38",
   "metadata": {},
   "source": [
    "## Exploratory Data Analysis"
   ]
  },
  {
   "cell_type": "code",
   "execution_count": 67,
   "id": "35187ab3",
   "metadata": {},
   "outputs": [
    {
     "name": "stdout",
     "output_type": "stream",
     "text": [
      "<class 'pandas.core.frame.DataFrame'>\n",
      "RangeIndex: 1728 entries, 0 to 1727\n",
      "Data columns (total 7 columns):\n",
      " #   Column    Non-Null Count  Dtype \n",
      "---  ------    --------------  ----- \n",
      " 0   buying    1728 non-null   object\n",
      " 1   maint     1728 non-null   object\n",
      " 2   doors     1728 non-null   object\n",
      " 3   persons   1728 non-null   object\n",
      " 4   lug_boot  1728 non-null   object\n",
      " 5   safety    1728 non-null   object\n",
      " 6   y         1728 non-null   object\n",
      "dtypes: object(7)\n",
      "memory usage: 94.6+ KB\n"
     ]
    }
   ],
   "source": [
    "# No null values\n",
    "data.info()"
   ]
  },
  {
   "cell_type": "markdown",
   "id": "3db15fb0",
   "metadata": {},
   "source": [
    "## Check for high cardinality categorical variables"
   ]
  },
  {
   "cell_type": "code",
   "execution_count": 68,
   "id": "cf448a23",
   "metadata": {
    "cell_id": "00011-4cee5db5-3c6f-4beb-8aa8-bf076a3114e3",
    "deepnote_cell_type": "code",
    "deepnote_to_be_reexecuted": false,
    "execution_millis": 141,
    "execution_start": 1631699315043,
    "scrolled": false,
    "source_hash": "55f2dd74",
    "tags": []
   },
   "outputs": [
    {
     "data": {
      "text/html": [
       "<div>\n",
       "<style scoped>\n",
       "    .dataframe tbody tr th:only-of-type {\n",
       "        vertical-align: middle;\n",
       "    }\n",
       "\n",
       "    .dataframe tbody tr th {\n",
       "        vertical-align: top;\n",
       "    }\n",
       "\n",
       "    .dataframe thead th {\n",
       "        text-align: right;\n",
       "    }\n",
       "</style>\n",
       "<table border=\"1\" class=\"dataframe\">\n",
       "  <thead>\n",
       "    <tr style=\"text-align: right;\">\n",
       "      <th></th>\n",
       "      <th>buying</th>\n",
       "      <th>maint</th>\n",
       "      <th>doors</th>\n",
       "      <th>persons</th>\n",
       "      <th>lug_boot</th>\n",
       "      <th>safety</th>\n",
       "      <th>y</th>\n",
       "    </tr>\n",
       "  </thead>\n",
       "  <tbody>\n",
       "    <tr>\n",
       "      <th>count</th>\n",
       "      <td>1728</td>\n",
       "      <td>1728</td>\n",
       "      <td>1728</td>\n",
       "      <td>1728</td>\n",
       "      <td>1728</td>\n",
       "      <td>1728</td>\n",
       "      <td>1728</td>\n",
       "    </tr>\n",
       "    <tr>\n",
       "      <th>unique</th>\n",
       "      <td>4</td>\n",
       "      <td>4</td>\n",
       "      <td>4</td>\n",
       "      <td>3</td>\n",
       "      <td>3</td>\n",
       "      <td>3</td>\n",
       "      <td>4</td>\n",
       "    </tr>\n",
       "    <tr>\n",
       "      <th>top</th>\n",
       "      <td>med</td>\n",
       "      <td>med</td>\n",
       "      <td>3</td>\n",
       "      <td>2</td>\n",
       "      <td>med</td>\n",
       "      <td>med</td>\n",
       "      <td>unacc</td>\n",
       "    </tr>\n",
       "    <tr>\n",
       "      <th>freq</th>\n",
       "      <td>432</td>\n",
       "      <td>432</td>\n",
       "      <td>432</td>\n",
       "      <td>576</td>\n",
       "      <td>576</td>\n",
       "      <td>576</td>\n",
       "      <td>1210</td>\n",
       "    </tr>\n",
       "  </tbody>\n",
       "</table>\n",
       "</div>"
      ],
      "text/plain": [
       "       buying maint doors persons lug_boot safety      y\n",
       "count    1728  1728  1728    1728     1728   1728   1728\n",
       "unique      4     4     4       3        3      3      4\n",
       "top       med   med     3       2      med    med  unacc\n",
       "freq      432   432   432     576      576    576   1210"
      ]
     },
     "execution_count": 68,
     "metadata": {},
     "output_type": "execute_result"
    }
   ],
   "source": [
    "# Identify the categorical variables\n",
    "categorical_variables = [col for col in data.columns if data[col].dtype=='object']\n",
    "\n",
    "# Inspect categorical variables\n",
    "data[categorical_variables].describe()"
   ]
  },
  {
   "cell_type": "code",
   "execution_count": 69,
   "id": "0f29b29e",
   "metadata": {},
   "outputs": [
    {
     "name": "stdout",
     "output_type": "stream",
     "text": [
      "med      25.0\n",
      "vhigh    25.0\n",
      "high     25.0\n",
      "low      25.0\n",
      "Name: buying, dtype: float64\n",
      "med      25.0\n",
      "vhigh    25.0\n",
      "high     25.0\n",
      "low      25.0\n",
      "Name: maint, dtype: float64\n",
      "3        25.0\n",
      "2        25.0\n",
      "4        25.0\n",
      "5more    25.0\n",
      "Name: doors, dtype: float64\n",
      "2       33.333\n",
      "4       33.333\n",
      "more    33.333\n",
      "Name: persons, dtype: float64\n",
      "med      33.333\n",
      "small    33.333\n",
      "big      33.333\n",
      "Name: lug_boot, dtype: float64\n",
      "med     33.333\n",
      "high    33.333\n",
      "low     33.333\n",
      "Name: safety, dtype: float64\n",
      "unacc    70.023\n",
      "acc      22.222\n",
      "good      3.993\n",
      "vgood     3.762\n",
      "Name: y, dtype: float64\n"
     ]
    }
   ],
   "source": [
    "for column in column_headers:\n",
    "    print(round(data[column].value_counts()/1728*100,3))"
   ]
  },
  {
   "cell_type": "code",
   "execution_count": 107,
   "id": "26715284",
   "metadata": {},
   "outputs": [
    {
     "name": "stdout",
     "output_type": "stream",
     "text": [
      "<class 'pandas.core.frame.DataFrame'>\n",
      "RangeIndex: 1728 entries, 0 to 1727\n",
      "Data columns (total 7 columns):\n",
      " #   Column    Non-Null Count  Dtype \n",
      "---  ------    --------------  ----- \n",
      " 0   buying    1296 non-null   Int64 \n",
      " 1   maint     1296 non-null   Int64 \n",
      " 2   doors     1728 non-null   Int64 \n",
      " 3   persons   1728 non-null   Int64 \n",
      " 4   lug_boot  1728 non-null   Int64 \n",
      " 5   safety    1728 non-null   Int64 \n",
      " 6   y         1728 non-null   object\n",
      "dtypes: Int64(6), object(1)\n",
      "memory usage: 104.8+ KB\n"
     ]
    }
   ],
   "source": [
    "data.info()"
   ]
  },
  {
   "cell_type": "code",
   "execution_count": 172,
   "id": "d98fa97b",
   "metadata": {},
   "outputs": [],
   "source": [
    "column_headers = ['buying', 'maint', 'doors', 'persons', 'lug_boot', 'safety', 'y']\n",
    "data = pd.read_csv('./car.data', names=column_headers, index_col=False)"
   ]
  },
  {
   "cell_type": "code",
   "execution_count": 173,
   "id": "9cb4e53f",
   "metadata": {},
   "outputs": [],
   "source": [
    "buying_mapper = {'low':1, 'med':2, 'high':3, 'vhigh':4}\n",
    "maint_mapper = {'low':1, 'med':2, 'high':3, 'vhigh':4}\n",
    "doors_mapper = {'2':1, '3':2, '4':3, '5more':4}\n",
    "persons_mapper = {'2':1, '4':2, 'more':3}\n",
    "lug_boot = {'small':1, 'med':2, 'big':3}\n",
    "safety_mapper = {'low':1, 'med':2, 'high':3}\n",
    "y_mapper = {'unacc':1, 'acc':2, 'good':3, 'vgood':4}"
   ]
  },
  {
   "cell_type": "code",
   "execution_count": 174,
   "id": "9d68a982",
   "metadata": {},
   "outputs": [],
   "source": [
    "data['buying'] = data['buying'].map(buying_mapper)\n",
    "data['maint'] = data['maint'].map(maint_mapper)\n",
    "data['doors'] = data['doors'].map(doors_mapper)\n",
    "data['persons'] = data['persons'].map(persons_mapper)\n",
    "data['lug_boot'] = data['lug_boot'].map(lug_boot)\n",
    "data['safety'] = data['safety'].map(safety_mapper)\n",
    "# data['y'] = data['y'].map(y_mapper)"
   ]
  },
  {
   "cell_type": "code",
   "execution_count": 175,
   "id": "5b5e1599",
   "metadata": {},
   "outputs": [],
   "source": [
    "# for col in column_headers:\n",
    "#     data[col]=data[col].astype('Int64')"
   ]
  },
  {
   "cell_type": "code",
   "execution_count": 176,
   "id": "9fea279c",
   "metadata": {},
   "outputs": [
    {
     "name": "stdout",
     "output_type": "stream",
     "text": [
      "<class 'pandas.core.frame.DataFrame'>\n",
      "RangeIndex: 1728 entries, 0 to 1727\n",
      "Data columns (total 7 columns):\n",
      " #   Column    Non-Null Count  Dtype \n",
      "---  ------    --------------  ----- \n",
      " 0   buying    1728 non-null   int64 \n",
      " 1   maint     1728 non-null   int64 \n",
      " 2   doors     1728 non-null   int64 \n",
      " 3   persons   1728 non-null   int64 \n",
      " 4   lug_boot  1728 non-null   int64 \n",
      " 5   safety    1728 non-null   int64 \n",
      " 6   y         1728 non-null   object\n",
      "dtypes: int64(6), object(1)\n",
      "memory usage: 94.6+ KB\n"
     ]
    }
   ],
   "source": [
    "# No null values\n",
    "data.info()"
   ]
  },
  {
   "cell_type": "code",
   "execution_count": 177,
   "id": "46e165ae",
   "metadata": {},
   "outputs": [
    {
     "data": {
      "text/html": [
       "<div>\n",
       "<style scoped>\n",
       "    .dataframe tbody tr th:only-of-type {\n",
       "        vertical-align: middle;\n",
       "    }\n",
       "\n",
       "    .dataframe tbody tr th {\n",
       "        vertical-align: top;\n",
       "    }\n",
       "\n",
       "    .dataframe thead th {\n",
       "        text-align: right;\n",
       "    }\n",
       "</style>\n",
       "<table border=\"1\" class=\"dataframe\">\n",
       "  <thead>\n",
       "    <tr style=\"text-align: right;\">\n",
       "      <th></th>\n",
       "      <th>buying</th>\n",
       "      <th>maint</th>\n",
       "      <th>doors</th>\n",
       "      <th>persons</th>\n",
       "      <th>lug_boot</th>\n",
       "      <th>safety</th>\n",
       "      <th>y</th>\n",
       "    </tr>\n",
       "  </thead>\n",
       "  <tbody>\n",
       "    <tr>\n",
       "      <th>0</th>\n",
       "      <td>4</td>\n",
       "      <td>4</td>\n",
       "      <td>1</td>\n",
       "      <td>1</td>\n",
       "      <td>1</td>\n",
       "      <td>1</td>\n",
       "      <td>unacc</td>\n",
       "    </tr>\n",
       "    <tr>\n",
       "      <th>1</th>\n",
       "      <td>4</td>\n",
       "      <td>4</td>\n",
       "      <td>1</td>\n",
       "      <td>1</td>\n",
       "      <td>1</td>\n",
       "      <td>2</td>\n",
       "      <td>unacc</td>\n",
       "    </tr>\n",
       "    <tr>\n",
       "      <th>2</th>\n",
       "      <td>4</td>\n",
       "      <td>4</td>\n",
       "      <td>1</td>\n",
       "      <td>1</td>\n",
       "      <td>1</td>\n",
       "      <td>3</td>\n",
       "      <td>unacc</td>\n",
       "    </tr>\n",
       "    <tr>\n",
       "      <th>3</th>\n",
       "      <td>4</td>\n",
       "      <td>4</td>\n",
       "      <td>1</td>\n",
       "      <td>1</td>\n",
       "      <td>2</td>\n",
       "      <td>1</td>\n",
       "      <td>unacc</td>\n",
       "    </tr>\n",
       "    <tr>\n",
       "      <th>4</th>\n",
       "      <td>4</td>\n",
       "      <td>4</td>\n",
       "      <td>1</td>\n",
       "      <td>1</td>\n",
       "      <td>2</td>\n",
       "      <td>2</td>\n",
       "      <td>unacc</td>\n",
       "    </tr>\n",
       "  </tbody>\n",
       "</table>\n",
       "</div>"
      ],
      "text/plain": [
       "   buying  maint  doors  persons  lug_boot  safety      y\n",
       "0       4      4      1        1         1       1  unacc\n",
       "1       4      4      1        1         1       2  unacc\n",
       "2       4      4      1        1         1       3  unacc\n",
       "3       4      4      1        1         2       1  unacc\n",
       "4       4      4      1        1         2       2  unacc"
      ]
     },
     "execution_count": 177,
     "metadata": {},
     "output_type": "execute_result"
    }
   ],
   "source": [
    "data.head(5)"
   ]
  },
  {
   "cell_type": "code",
   "execution_count": 261,
   "id": "995ae472",
   "metadata": {},
   "outputs": [],
   "source": [
    "X = data[[x for x in data.columns if x != 'y']]\n",
    "y = data['y']"
   ]
  },
  {
   "cell_type": "code",
   "execution_count": null,
   "id": "0da6637d",
   "metadata": {},
   "outputs": [],
   "source": []
  },
  {
   "cell_type": "code",
   "execution_count": 179,
   "id": "d43b91ca",
   "metadata": {},
   "outputs": [],
   "source": [
    "X_train, X_test, y_train, y_test = train_test_split(X, y, test_size=0.3, random_state=123, stratify=y)"
   ]
  },
  {
   "cell_type": "code",
   "execution_count": 191,
   "id": "08bd4f88",
   "metadata": {},
   "outputs": [
    {
     "data": {
      "text/plain": [
       "DecisionTreeClassifier(criterion='entropy', max_depth=4, random_state=123)"
      ]
     },
     "execution_count": 191,
     "metadata": {},
     "output_type": "execute_result"
    }
   ],
   "source": [
    "clf_gini = DecisionTreeClassifier(criterion='entropy', max_depth=4, random_state=123)\n",
    "clf_gini.fit(X_train, y_train.values.ravel())"
   ]
  },
  {
   "cell_type": "code",
   "execution_count": 192,
   "id": "cd6355ba",
   "metadata": {},
   "outputs": [],
   "source": [
    "y_pred_gini = clf_gini.predict(X_test)"
   ]
  },
  {
   "cell_type": "code",
   "execution_count": 193,
   "id": "997fbd38",
   "metadata": {},
   "outputs": [
    {
     "name": "stdout",
     "output_type": "stream",
     "text": [
      "Model accuracy score with criterion gini index: 0.8343\n"
     ]
    }
   ],
   "source": [
    "from sklearn.metrics import accuracy_score\n",
    "\n",
    "print('Model accuracy score with criterion gini index: {0:0.4f}'. format(accuracy_score(y_test, y_pred_gini)))"
   ]
  },
  {
   "cell_type": "code",
   "execution_count": 194,
   "id": "e2abcb45",
   "metadata": {},
   "outputs": [
    {
     "data": {
      "text/plain": [
       "array(['unacc', 'unacc', 'acc', ..., 'acc', 'unacc', 'unacc'],\n",
       "      dtype=object)"
      ]
     },
     "execution_count": 194,
     "metadata": {},
     "output_type": "execute_result"
    }
   ],
   "source": [
    "y_pred_train_gini = clf_gini.predict(X_train)\n",
    "\n",
    "y_pred_train_gini"
   ]
  },
  {
   "cell_type": "code",
   "execution_count": 195,
   "id": "c03179a2",
   "metadata": {},
   "outputs": [
    {
     "name": "stdout",
     "output_type": "stream",
     "text": [
      "Training-set accuracy score: 0.8379\n"
     ]
    }
   ],
   "source": [
    "print('Training-set accuracy score: {0:0.4f}'. format(accuracy_score(y_train, y_pred_train_gini)))"
   ]
  },
  {
   "cell_type": "code",
   "execution_count": 196,
   "id": "2733adea",
   "metadata": {},
   "outputs": [
    {
     "data": {
      "text/plain": [
       "[Text(167.4, 391.392, 'X[5] <= 1.5\\nentropy = 1.204\\nsamples = 1209\\nvalue = [269, 48, 847, 45]'),\n",
       " Text(83.7, 304.416, 'entropy = 0.0\\nsamples = 407\\nvalue = [0, 0, 407, 0]'),\n",
       " Text(251.10000000000002, 304.416, 'X[3] <= 1.5\\nentropy = 1.48\\nsamples = 802\\nvalue = [269, 48, 440, 45]'),\n",
       " Text(167.4, 217.44, 'entropy = 0.0\\nsamples = 271\\nvalue = [0, 0, 271, 0]'),\n",
       " Text(334.8, 217.44, 'X[0] <= 2.5\\nentropy = 1.638\\nsamples = 531\\nvalue = [269, 48, 169, 45]'),\n",
       " Text(167.4, 130.464, 'X[1] <= 2.5\\nentropy = 1.704\\nsamples = 270\\nvalue = [147, 48, 30, 45]'),\n",
       " Text(83.7, 43.488, 'entropy = 1.764\\nsamples = 133\\nvalue = [45, 48, 6, 34]'),\n",
       " Text(251.10000000000002, 43.488, 'entropy = 1.049\\nsamples = 137\\nvalue = [102, 0, 24, 11]'),\n",
       " Text(502.20000000000005, 130.464, 'X[1] <= 3.5\\nentropy = 0.997\\nsamples = 261\\nvalue = [122, 0, 139, 0]'),\n",
       " Text(418.5, 43.488, 'entropy = 0.961\\nsamples = 198\\nvalue = [122, 0, 76, 0]'),\n",
       " Text(585.9, 43.488, 'entropy = 0.0\\nsamples = 63\\nvalue = [0, 0, 63, 0]')]"
      ]
     },
     "execution_count": 196,
     "metadata": {},
     "output_type": "execute_result"
    },
    {
     "data": {
      "image/png": "[encoded data removed]",
      "text/plain": [
       "<Figure size 864x576 with 1 Axes>"
      ]
     },
     "metadata": {
      "needs_background": "light"
     },
     "output_type": "display_data"
    }
   ],
   "source": [
    "plt.figure(figsize=(12,8))\n",
    "\n",
    "from sklearn import tree\n",
    "\n",
    "tree.plot_tree(clf_gini.fit(X_train, y_train)) "
   ]
  },
  {
   "cell_type": "code",
   "execution_count": null,
   "id": "34e7626a",
   "metadata": {},
   "outputs": [],
   "source": [
    "# Adaboost"
   ]
  },
  {
   "cell_type": "code",
   "execution_count": 241,
   "id": "5ae25329",
   "metadata": {
    "cell_id": "00023-6424402e-0d59-4f5a-8e9c-ab7f081d91ed",
    "deepnote_cell_type": "code",
    "deepnote_to_be_reexecuted": true,
    "execution_millis": 83294,
    "execution_start": 1631633198285,
    "source_hash": "3c3c2848",
    "tags": []
   },
   "outputs": [
    {
     "name": "stdout",
     "output_type": "stream",
     "text": [
      "Best Accuracy score: 0.958 with parameters: {'base_estimator': DecisionTreeClassifier(criterion='entropy', max_depth=4, random_state=123), 'learning_rate': 1.5, 'n_estimators': 150}\n"
     ]
    }
   ],
   "source": [
    "# define hyperparameters for GridSearch and model tuning\n",
    "estimators = [\n",
    "#     DecisionTreeClassifier(criterion='gini', max_depth=2, random_state=123), \n",
    "#     DecisionTreeClassifier(criterion='gini', max_depth=3, random_state=123), \n",
    "    DecisionTreeClassifier(criterion='gini', max_depth=4, random_state=123), \n",
    "#     DecisionTreeClassifier(criterion='entropy', max_depth=2, random_state=123), \n",
    "    DecisionTreeClassifier(criterion='entropy', max_depth=3, random_state=123),\n",
    "    DecisionTreeClassifier(criterion='entropy', max_depth=4, random_state=123), \n",
    "              ]\n",
    "\n",
    "hyperparameters = {'base_estimator':estimators, 'n_estimators': [50, 100, 150, 200], 'learning_rate':[0.5, 1, 1.5]}\n",
    "\n",
    "# define evaluation procedure\n",
    "adaboost = GridSearchCV(AdaBoostClassifier(random_state=4222), hyperparameters, cv=5, scoring=\"accuracy\", n_jobs=-1)\n",
    "adaboost.fit(X_train, y_train.values.ravel())\n",
    "print(f'Best Accuracy score: {adaboost.best_score_:.3f} with parameters: {adaboost.best_params_}')"
   ]
  },
  {
   "cell_type": "code",
   "execution_count": 242,
   "id": "88334f0f",
   "metadata": {},
   "outputs": [
    {
     "name": "stdout",
     "output_type": "stream",
     "text": [
      "Accuracy: 94.0\n",
      "F1 Score: 94.2\n"
     ]
    }
   ],
   "source": [
    "adaboost_prediction = adaboost.predict(X_test)\n",
    "print(f'Accuracy: {accuracy_score(y_test, adaboost_prediction)*100:.1f}')\n",
    "print(f'F1 Score: {f1_score(y_test, adaboost_prediction, average=\"weighted\")*100:.1f}')"
   ]
  },
  {
   "cell_type": "code",
   "execution_count": 243,
   "id": "f348f1e0",
   "metadata": {},
   "outputs": [
    {
     "name": "stdout",
     "output_type": "stream",
     "text": [
      "              precision    recall  f1-score   support\n",
      "\n",
      "         acc       0.80      0.97      0.88       115\n",
      "        good       1.00      0.90      0.95        21\n",
      "       unacc       0.99      0.93      0.96       363\n",
      "       vgood       1.00      0.95      0.97        20\n",
      "\n",
      "    accuracy                           0.94       519\n",
      "   macro avg       0.95      0.94      0.94       519\n",
      "weighted avg       0.95      0.94      0.94       519\n",
      "\n"
     ]
    }
   ],
   "source": [
    "from sklearn.metrics import classification_report\n",
    "print(classification_report(y_test, adaboost_prediction))"
   ]
  },
  {
   "cell_type": "code",
   "execution_count": null,
   "id": "508625fd",
   "metadata": {},
   "outputs": [],
   "source": [
    "# Try linear only (runtime too long)\n",
    "hyperparameters = {'kernel': ['linear', 'rbf', 'poly'], \n",
    "                   'C':[0.2, 1, 5], \n",
    "#                    'tol':[0.5, 0.1, 0.05],\n",
    "                   'decision_function_shape':['ovr'],\n",
    "                   'gamma':[1e-1]\n",
    "                  }\n",
    "\n",
    "# define evaluation procedure\n",
    "svm = GridSearchCV(SVC(random_state=123), hyperparameters, scoring=\"accuracy\", cv=5, n_jobs=-1)\n",
    "svm.fit(X_train, y_train.values.ravel())\n",
    "print(f'Best F1 score: {svm.best_score_:.3f} with parameters: {svm.best_params_}')"
   ]
  },
  {
   "cell_type": "code",
   "execution_count": null,
   "id": "23cbab9c",
   "metadata": {},
   "outputs": [],
   "source": [
    "svm_prediction = svm.predict(X_test)\n",
    "print(f'Accuracy: {accuracy_score(y_test, svm_prediction)*100:.1f}')\n",
    "print(f'F1 Score: {f1_score(y_test, svm_prediction, average=\"weighted\")*100:.1f}')"
   ]
  },
  {
   "cell_type": "code",
   "execution_count": null,
   "id": "6e42c8b4",
   "metadata": {},
   "outputs": [],
   "source": [
    "from sklearn.metrics import classification_report\n",
    "print(classification_report(y_test, svm_prediction))"
   ]
  },
  {
   "cell_type": "markdown",
   "id": "2fa5126a",
   "metadata": {},
   "source": [
    "# Train Best Model on whole dataset "
   ]
  },
  {
   "cell_type": "code",
   "execution_count": null,
   "id": "74ac676e",
   "metadata": {},
   "outputs": [],
   "source": [
    "clf = SVC(random_state=4222, **svm.best_params_)\n",
    "clf.fit(X, y.values.ravel())"
   ]
  },
  {
   "cell_type": "markdown",
   "id": "2ad22685",
   "metadata": {},
   "source": [
    "## Predict test data"
   ]
  },
  {
   "cell_type": "code",
   "execution_count": 266,
   "id": "d7aa0f8a",
   "metadata": {},
   "outputs": [
    {
     "ename": "TypeError",
     "evalue": "'SVC' object is not iterable",
     "output_type": "error",
     "traceback": [
      "\u001b[1;31m---------------------------------------------------------------------------\u001b[0m",
      "\u001b[1;31mTypeError\u001b[0m                                 Traceback (most recent call last)",
      "\u001b[1;32m<ipython-input-266-8da8734d1086>\u001b[0m in \u001b[0;36m<module>\u001b[1;34m\u001b[0m\n\u001b[0;32m      1\u001b[0m \u001b[0mplt\u001b[0m\u001b[1;33m.\u001b[0m\u001b[0mfigure\u001b[0m\u001b[1;33m(\u001b[0m\u001b[0mfigsize\u001b[0m\u001b[1;33m=\u001b[0m\u001b[1;33m(\u001b[0m\u001b[1;36m8\u001b[0m\u001b[1;33m,\u001b[0m \u001b[1;36m6\u001b[0m\u001b[1;33m)\u001b[0m\u001b[1;33m)\u001b[0m\u001b[1;33m\u001b[0m\u001b[1;33m\u001b[0m\u001b[0m\n\u001b[0;32m      2\u001b[0m \u001b[0mxx\u001b[0m\u001b[1;33m,\u001b[0m \u001b[0myy\u001b[0m \u001b[1;33m=\u001b[0m \u001b[0mnp\u001b[0m\u001b[1;33m.\u001b[0m\u001b[0mmeshgrid\u001b[0m\u001b[1;33m(\u001b[0m\u001b[0mnp\u001b[0m\u001b[1;33m.\u001b[0m\u001b[0mlinspace\u001b[0m\u001b[1;33m(\u001b[0m\u001b[1;33m-\u001b[0m\u001b[1;36m3\u001b[0m\u001b[1;33m,\u001b[0m \u001b[1;36m3\u001b[0m\u001b[1;33m,\u001b[0m \u001b[1;36m200\u001b[0m\u001b[1;33m)\u001b[0m\u001b[1;33m,\u001b[0m \u001b[0mnp\u001b[0m\u001b[1;33m.\u001b[0m\u001b[0mlinspace\u001b[0m\u001b[1;33m(\u001b[0m\u001b[1;33m-\u001b[0m\u001b[1;36m3\u001b[0m\u001b[1;33m,\u001b[0m \u001b[1;36m3\u001b[0m\u001b[1;33m,\u001b[0m \u001b[1;36m200\u001b[0m\u001b[1;33m)\u001b[0m\u001b[1;33m)\u001b[0m\u001b[1;33m\u001b[0m\u001b[1;33m\u001b[0m\u001b[0m\n\u001b[1;32m----> 3\u001b[1;33m \u001b[1;32mfor\u001b[0m \u001b[1;33m(\u001b[0m\u001b[0mk\u001b[0m\u001b[1;33m,\u001b[0m \u001b[1;33m(\u001b[0m\u001b[0mC\u001b[0m\u001b[1;33m,\u001b[0m \u001b[0mgamma\u001b[0m\u001b[1;33m,\u001b[0m \u001b[0mclf\u001b[0m\u001b[1;33m)\u001b[0m\u001b[1;33m)\u001b[0m \u001b[1;32min\u001b[0m \u001b[0mclf\u001b[0m\u001b[1;33m:\u001b[0m\u001b[1;33m\u001b[0m\u001b[1;33m\u001b[0m\u001b[0m\n\u001b[0m\u001b[0;32m      4\u001b[0m     \u001b[1;31m# evaluate decision function in a grid\u001b[0m\u001b[1;33m\u001b[0m\u001b[1;33m\u001b[0m\u001b[1;33m\u001b[0m\u001b[0m\n\u001b[0;32m      5\u001b[0m     \u001b[0mZ\u001b[0m \u001b[1;33m=\u001b[0m \u001b[0mclf\u001b[0m\u001b[1;33m.\u001b[0m\u001b[0mdecision_function\u001b[0m\u001b[1;33m(\u001b[0m\u001b[0mnp\u001b[0m\u001b[1;33m.\u001b[0m\u001b[0mc_\u001b[0m\u001b[1;33m[\u001b[0m\u001b[0mxx\u001b[0m\u001b[1;33m.\u001b[0m\u001b[0mravel\u001b[0m\u001b[1;33m(\u001b[0m\u001b[1;33m)\u001b[0m\u001b[1;33m,\u001b[0m \u001b[0myy\u001b[0m\u001b[1;33m.\u001b[0m\u001b[0mravel\u001b[0m\u001b[1;33m(\u001b[0m\u001b[1;33m)\u001b[0m\u001b[1;33m]\u001b[0m\u001b[1;33m)\u001b[0m\u001b[1;33m\u001b[0m\u001b[1;33m\u001b[0m\u001b[0m\n",
      "\u001b[1;31mTypeError\u001b[0m: 'SVC' object is not iterable"
     ]
    },
    {
     "data": {
      "text/plain": [
       "<Figure size 576x432 with 0 Axes>"
      ]
     },
     "metadata": {},
     "output_type": "display_data"
    }
   ],
   "source": [
    "plt.figure(figsize=(8, 6))\n",
    "xx, yy = np.meshgrid(np.linspace(-3, 3, 200), np.linspace(-3, 3, 200))\n",
    "\n",
    "k, C, gamma = \n",
    "\n",
    "# evaluate decision function in a grid\n",
    "Z = clf.decision_function(np.c_[xx.ravel(), yy.ravel()])\n",
    "Z = Z.reshape(xx.shape)\n",
    "\n",
    "# visualize decision function for these parameters\n",
    "plt.title(\"gamma=10^%d, C=10^%d\" % (np.log10(gamma), np.log10(C)),\n",
    "          size='medium')\n",
    "\n",
    "# visualize parameter's effect on decision function\n",
    "plt.pcolormesh(xx, yy, -Z, cmap=plt.cm.RdBu)\n",
    "plt.scatter(X_2d[:, 0], X_2d[:, 1], c=y_2d, cmap=plt.cm.RdBu_r,\n",
    "            edgecolors='k')\n",
    "plt.xticks(())\n",
    "plt.yticks(())\n",
    "plt.axis('tight')\n",
    "\n",
    "\n",
    "# Draw heatmap of the validation accuracy as a function of gamma and C\n",
    "#\n",
    "# The score are encoded as colors with the hot colormap which varies from dark\n",
    "# red to bright yellow. As the most interesting scores are all located in the\n",
    "# 0.92 to 0.97 range we use a custom normalizer to set the mid-point to 0.92 so\n",
    "# as to make it easier to visualize the small variations of score values in the\n",
    "# interesting range while not brutally collapsing all the low score values to\n",
    "# the same color.\n",
    "\n",
    "plt.figure(figsize=(8, 6))\n",
    "plt.subplots_adjust(left=.2, right=0.95, bottom=0.15, top=0.95)\n",
    "plt.imshow(scores, interpolation='nearest', cmap=plt.cm.hot,\n",
    "           norm=MidpointNormalize(vmin=0.2, midpoint=0.92))\n",
    "plt.xlabel('gamma')\n",
    "plt.ylabel('C')\n",
    "plt.colorbar()\n",
    "plt.xticks(np.arange(len(gamma_range)), gamma_range, rotation=45)\n",
    "plt.yticks(np.arange(len(C_range)), C_range)\n",
    "plt.title('Validation accuracy')\n",
    "plt.show()"
   ]
  },
  {
   "cell_type": "code",
   "execution_count": null,
   "id": "1543543f",
   "metadata": {},
   "outputs": [],
   "source": []
  }
 ],
 "metadata": {
  "deepnote": {
   "is_reactive": false
  },
  "deepnote_execution_queue": [
   {
    "cellId": "00022-c224aa68-f2f6-432d-8929-10d0d42eced8",
    "msgId": "d12bc48b-8e64-43ae-a0ed-ab555588d184",
    "sessionId": "64f8e695-c1c2-4537-8a0b-39cdb06aff66"
   },
   {
    "cellId": "00023-6424402e-0d59-4f5a-8e9c-ab7f081d91ed",
    "msgId": "b654cf8a-8956-4ffa-b159-bc64e49b47d5",
    "sessionId": "64f8e695-c1c2-4537-8a0b-39cdb06aff66"
   },
   {
    "cellId": "00015-349cba68-c0b1-458c-848b-9e2f9ffcab5b",
    "msgId": "50d24acb-641c-412f-b549-6e48f50a0431",
    "sessionId": "64f8e695-c1c2-4537-8a0b-39cdb06aff66"
   },
   {
    "cellId": "00017-5e63eede-3ce5-4918-9378-e5c726b767a3",
    "msgId": "77526c52-98d8-40ad-adeb-77a557d7f3b8",
    "sessionId": "64f8e695-c1c2-4537-8a0b-39cdb06aff66"
   },
   {
    "cellId": "00018-703f9396-6276-43f9-a7a1-cb6ab8f3f919",
    "msgId": "aca71423-4a13-4d04-a66c-fc1931e079f9",
    "sessionId": "64f8e695-c1c2-4537-8a0b-39cdb06aff66"
   },
   {
    "cellId": "00020-a309828f-48ee-49fa-af37-21b0914714ca",
    "msgId": "a52c6c69-8b96-4ee5-9e27-88b3a4d7e4ea",
    "sessionId": "64f8e695-c1c2-4537-8a0b-39cdb06aff66"
   },
   {
    "cellId": "00016-4c3ef63d-7401-4182-93b1-69456d9e14a6",
    "msgId": "0a9a8834-a785-4cae-8129-f338037042d7",
    "sessionId": "64f8e695-c1c2-4537-8a0b-39cdb06aff66"
   },
   {
    "cellId": "00017-ac700522-d234-414d-a0dc-7ab0bf93f9f3",
    "msgId": "1c2ab5fb-97ff-4eea-8613-1acc2aad9c1d",
    "sessionId": "64f8e695-c1c2-4537-8a0b-39cdb06aff66"
   },
   {
    "cellId": "00018-ad942efc-e1db-4b19-a5d7-ad954c7945f3",
    "msgId": "e60e6d69-52f9-4d26-aef2-04e87e48d1c3",
    "sessionId": "64f8e695-c1c2-4537-8a0b-39cdb06aff66"
   },
   {
    "cellId": "00026-601c5b52-ab3c-42aa-b6e1-a058b7cdf0d7",
    "msgId": "39787fdf-8894-45c3-aeca-6f8926519cfc",
    "sessionId": "64f8e695-c1c2-4537-8a0b-39cdb06aff66"
   },
   {
    "cellId": "00020-803c881c-8791-47d1-97f6-eac7e0557aa3",
    "msgId": "e72f68fd-aaad-4bbb-b5c8-6edceb0e237a",
    "sessionId": "64f8e695-c1c2-4537-8a0b-39cdb06aff66"
   },
   {
    "cellId": "00022-54759871-f47a-4b79-99b5-c72041b40295",
    "msgId": "aedfae26-10a7-4c41-a4a1-396ee4be3b2d",
    "sessionId": "64f8e695-c1c2-4537-8a0b-39cdb06aff66"
   }
  ],
  "deepnote_notebook_id": "40d04281-7fd2-4cb6-9982-164b867e3a5d",
  "kernelspec": {
   "display_name": "Python 3",
   "language": "python",
   "name": "python3"
  },
  "language_info": {
   "codemirror_mode": {
    "name": "ipython",
    "version": 3
   },
   "file_extension": ".py",
   "mimetype": "text/x-python",
   "name": "python",
   "nbconvert_exporter": "python",
   "pygments_lexer": "ipython3",
   "version": "3.8.8"
  }
 },
 "nbformat": 4,
 "nbformat_minor": 5
}
