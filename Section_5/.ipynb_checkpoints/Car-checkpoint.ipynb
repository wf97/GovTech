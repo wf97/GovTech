{
 "cells": [
  {
   "cell_type": "code",
   "execution_count": 1,
   "id": "2d220205",
   "metadata": {
    "cell_id": "00000-820a753d-50a8-485f-9439-2b3578849cf5",
    "deepnote_cell_type": "code",
    "deepnote_to_be_reexecuted": false,
    "execution_millis": 2581,
    "execution_start": 1631699312188,
    "source_hash": "2c7ca21c"
   },
   "outputs": [],
   "source": [
    "import pandas as pd\n",
    "import numpy as np\n",
    "import seaborn as sns\n",
    "import matplotlib.pyplot as plt\n",
    "%matplotlib inline\n",
    "\n",
    "from xgboost import XGBClassifier\n",
    "import xgboost as xgb\n",
    "\n",
    "\n",
    "import category_encoders as ce\n",
    "from sklearn.linear_model import LogisticRegression\n",
    "from sklearn.svm import SVC\n",
    "from sklearn.tree import DecisionTreeClassifier\n",
    "from sklearn.ensemble import AdaBoostClassifier\n",
    "from sklearn.model_selection import train_test_split, GridSearchCV, StratifiedKFold, KFold\n",
    "from sklearn.preprocessing import MinMaxScaler\n",
    "from sklearn.metrics import confusion_matrix, accuracy_score, f1_score, precision_recall_fscore_support, precision_score, recall_score"
   ]
  },
  {
   "cell_type": "code",
   "execution_count": 2,
   "id": "bec499bf",
   "metadata": {},
   "outputs": [
    {
     "data": {
      "text/html": [
       "<div>\n",
       "<style scoped>\n",
       "    .dataframe tbody tr th:only-of-type {\n",
       "        vertical-align: middle;\n",
       "    }\n",
       "\n",
       "    .dataframe tbody tr th {\n",
       "        vertical-align: top;\n",
       "    }\n",
       "\n",
       "    .dataframe thead th {\n",
       "        text-align: right;\n",
       "    }\n",
       "</style>\n",
       "<table border=\"1\" class=\"dataframe\">\n",
       "  <thead>\n",
       "    <tr style=\"text-align: right;\">\n",
       "      <th></th>\n",
       "      <th>buying</th>\n",
       "      <th>maint</th>\n",
       "      <th>doors</th>\n",
       "      <th>persons</th>\n",
       "      <th>lug_boot</th>\n",
       "      <th>safety</th>\n",
       "      <th>overall_score</th>\n",
       "    </tr>\n",
       "  </thead>\n",
       "  <tbody>\n",
       "    <tr>\n",
       "      <th>0</th>\n",
       "      <td>vhigh</td>\n",
       "      <td>vhigh</td>\n",
       "      <td>2</td>\n",
       "      <td>2</td>\n",
       "      <td>small</td>\n",
       "      <td>low</td>\n",
       "      <td>unacc</td>\n",
       "    </tr>\n",
       "    <tr>\n",
       "      <th>1</th>\n",
       "      <td>vhigh</td>\n",
       "      <td>vhigh</td>\n",
       "      <td>2</td>\n",
       "      <td>2</td>\n",
       "      <td>small</td>\n",
       "      <td>med</td>\n",
       "      <td>unacc</td>\n",
       "    </tr>\n",
       "    <tr>\n",
       "      <th>2</th>\n",
       "      <td>vhigh</td>\n",
       "      <td>vhigh</td>\n",
       "      <td>2</td>\n",
       "      <td>2</td>\n",
       "      <td>small</td>\n",
       "      <td>high</td>\n",
       "      <td>unacc</td>\n",
       "    </tr>\n",
       "    <tr>\n",
       "      <th>3</th>\n",
       "      <td>vhigh</td>\n",
       "      <td>vhigh</td>\n",
       "      <td>2</td>\n",
       "      <td>2</td>\n",
       "      <td>med</td>\n",
       "      <td>low</td>\n",
       "      <td>unacc</td>\n",
       "    </tr>\n",
       "    <tr>\n",
       "      <th>4</th>\n",
       "      <td>vhigh</td>\n",
       "      <td>vhigh</td>\n",
       "      <td>2</td>\n",
       "      <td>2</td>\n",
       "      <td>med</td>\n",
       "      <td>med</td>\n",
       "      <td>unacc</td>\n",
       "    </tr>\n",
       "  </tbody>\n",
       "</table>\n",
       "</div>"
      ],
      "text/plain": [
       "  buying  maint doors persons lug_boot safety overall_score\n",
       "0  vhigh  vhigh     2       2    small    low         unacc\n",
       "1  vhigh  vhigh     2       2    small    med         unacc\n",
       "2  vhigh  vhigh     2       2    small   high         unacc\n",
       "3  vhigh  vhigh     2       2      med    low         unacc\n",
       "4  vhigh  vhigh     2       2      med    med         unacc"
      ]
     },
     "execution_count": 2,
     "metadata": {},
     "output_type": "execute_result"
    }
   ],
   "source": [
    "column_headers = ['buying', 'maint', 'doors', 'persons', 'lug_boot', 'safety', 'overall_score']\n",
    "data = pd.read_csv('./car.data', names=column_headers, index_col=False)\n",
    "data.head(5)"
   ]
  },
  {
   "cell_type": "code",
   "execution_count": 3,
   "id": "f2ec445f",
   "metadata": {},
   "outputs": [
    {
     "data": {
      "text/plain": [
       "(1728, 7)"
      ]
     },
     "execution_count": 3,
     "metadata": {},
     "output_type": "execute_result"
    }
   ],
   "source": [
    "data.shape"
   ]
  },
  {
   "cell_type": "markdown",
   "id": "82859c38",
   "metadata": {},
   "source": [
    "## Exploratory Data Analysis"
   ]
  },
  {
   "cell_type": "code",
   "execution_count": 4,
   "id": "772493ce",
   "metadata": {},
   "outputs": [
    {
     "name": "stdout",
     "output_type": "stream",
     "text": [
      "<class 'pandas.core.frame.DataFrame'>\n",
      "RangeIndex: 1728 entries, 0 to 1727\n",
      "Data columns (total 7 columns):\n",
      " #   Column         Non-Null Count  Dtype \n",
      "---  ------         --------------  ----- \n",
      " 0   buying         1728 non-null   object\n",
      " 1   maint          1728 non-null   object\n",
      " 2   doors          1728 non-null   object\n",
      " 3   persons        1728 non-null   object\n",
      " 4   lug_boot       1728 non-null   object\n",
      " 5   safety         1728 non-null   object\n",
      " 6   overall_score  1728 non-null   object\n",
      "dtypes: object(7)\n",
      "memory usage: 94.6+ KB\n"
     ]
    }
   ],
   "source": [
    "# No null values\n",
    "data.info()"
   ]
  },
  {
   "cell_type": "code",
   "execution_count": 5,
   "id": "cf448a23",
   "metadata": {
    "cell_id": "00011-4cee5db5-3c6f-4beb-8aa8-bf076a3114e3",
    "deepnote_cell_type": "code",
    "deepnote_to_be_reexecuted": false,
    "execution_millis": 141,
    "execution_start": 1631699315043,
    "scrolled": false,
    "source_hash": "55f2dd74",
    "tags": []
   },
   "outputs": [
    {
     "data": {
      "text/html": [
       "<div>\n",
       "<style scoped>\n",
       "    .dataframe tbody tr th:only-of-type {\n",
       "        vertical-align: middle;\n",
       "    }\n",
       "\n",
       "    .dataframe tbody tr th {\n",
       "        vertical-align: top;\n",
       "    }\n",
       "\n",
       "    .dataframe thead th {\n",
       "        text-align: right;\n",
       "    }\n",
       "</style>\n",
       "<table border=\"1\" class=\"dataframe\">\n",
       "  <thead>\n",
       "    <tr style=\"text-align: right;\">\n",
       "      <th></th>\n",
       "      <th>buying</th>\n",
       "      <th>maint</th>\n",
       "      <th>doors</th>\n",
       "      <th>persons</th>\n",
       "      <th>lug_boot</th>\n",
       "      <th>safety</th>\n",
       "      <th>overall_score</th>\n",
       "    </tr>\n",
       "  </thead>\n",
       "  <tbody>\n",
       "    <tr>\n",
       "      <th>count</th>\n",
       "      <td>1728</td>\n",
       "      <td>1728</td>\n",
       "      <td>1728</td>\n",
       "      <td>1728</td>\n",
       "      <td>1728</td>\n",
       "      <td>1728</td>\n",
       "      <td>1728</td>\n",
       "    </tr>\n",
       "    <tr>\n",
       "      <th>unique</th>\n",
       "      <td>4</td>\n",
       "      <td>4</td>\n",
       "      <td>4</td>\n",
       "      <td>3</td>\n",
       "      <td>3</td>\n",
       "      <td>3</td>\n",
       "      <td>4</td>\n",
       "    </tr>\n",
       "    <tr>\n",
       "      <th>top</th>\n",
       "      <td>low</td>\n",
       "      <td>low</td>\n",
       "      <td>5more</td>\n",
       "      <td>more</td>\n",
       "      <td>big</td>\n",
       "      <td>low</td>\n",
       "      <td>unacc</td>\n",
       "    </tr>\n",
       "    <tr>\n",
       "      <th>freq</th>\n",
       "      <td>432</td>\n",
       "      <td>432</td>\n",
       "      <td>432</td>\n",
       "      <td>576</td>\n",
       "      <td>576</td>\n",
       "      <td>576</td>\n",
       "      <td>1210</td>\n",
       "    </tr>\n",
       "  </tbody>\n",
       "</table>\n",
       "</div>"
      ],
      "text/plain": [
       "       buying maint  doors persons lug_boot safety overall_score\n",
       "count    1728  1728   1728    1728     1728   1728          1728\n",
       "unique      4     4      4       3        3      3             4\n",
       "top       low   low  5more    more      big    low         unacc\n",
       "freq      432   432    432     576      576    576          1210"
      ]
     },
     "execution_count": 5,
     "metadata": {},
     "output_type": "execute_result"
    }
   ],
   "source": [
    "# Identify the categorical variables\n",
    "categorical_variables = [col for col in data.columns if data[col].dtype=='object']\n",
    "\n",
    "# Inspect categorical variables\n",
    "data[categorical_variables].describe()"
   ]
  },
  {
   "cell_type": "code",
   "execution_count": 6,
   "id": "28503a75",
   "metadata": {},
   "outputs": [
    {
     "name": "stdout",
     "output_type": "stream",
     "text": [
      "low      25.0\n",
      "med      25.0\n",
      "vhigh    25.0\n",
      "high     25.0\n",
      "Name: buying, dtype: float64\n",
      "low      25.0\n",
      "med      25.0\n",
      "vhigh    25.0\n",
      "high     25.0\n",
      "Name: maint, dtype: float64\n",
      "5more    25.0\n",
      "2        25.0\n",
      "3        25.0\n",
      "4        25.0\n",
      "Name: doors, dtype: float64\n",
      "more    33.333\n",
      "2       33.333\n",
      "4       33.333\n",
      "Name: persons, dtype: float64\n",
      "big      33.333\n",
      "small    33.333\n",
      "med      33.333\n",
      "Name: lug_boot, dtype: float64\n",
      "low     33.333\n",
      "med     33.333\n",
      "high    33.333\n",
      "Name: safety, dtype: float64\n",
      "unacc    70.023\n",
      "acc      22.222\n",
      "good      3.993\n",
      "vgood     3.762\n",
      "Name: overall_score, dtype: float64\n"
     ]
    }
   ],
   "source": [
    "for column in column_headers:\n",
    "    print(round(data[column].value_counts()/1728*100,3))"
   ]
  },
  {
   "cell_type": "code",
   "execution_count": 7,
   "id": "999af7ba",
   "metadata": {},
   "outputs": [],
   "source": [
    "# Map into ordinal data\n",
    "buying_mapper = {'low':1, 'med':2, 'high':3, 'vhigh':4}\n",
    "maint_mapper = {'low':1, 'med':2, 'high':3, 'vhigh':4}\n",
    "doors_mapper = {'2':1, '3':2, '4':3, '5more':4}\n",
    "persons_mapper = {'2':1, '4':2, 'more':3}\n",
    "lug_boot = {'small':1, 'med':2, 'big':3}\n",
    "safety_mapper = {'low':1, 'med':2, 'high':3}\n",
    "score_mapper = {'unacc':1, 'acc':2, 'good':3, 'vgood':4}"
   ]
  },
  {
   "cell_type": "code",
   "execution_count": 8,
   "id": "dbb80692",
   "metadata": {},
   "outputs": [],
   "source": [
    "# data['buying'] = data['buying'].map(buying_mapper)\n",
    "data['maint'] = data['maint'].map(maint_mapper)\n",
    "data['doors'] = data['doors'].map(doors_mapper)\n",
    "data['persons'] = data['persons'].map(persons_mapper)\n",
    "data['lug_boot'] = data['lug_boot'].map(lug_boot)\n",
    "data['safety'] = data['safety'].map(safety_mapper)\n",
    "data['overall_score'] = data['overall_score'].map(score_mapper)"
   ]
  },
  {
   "cell_type": "code",
   "execution_count": 9,
   "id": "e26c8429",
   "metadata": {},
   "outputs": [],
   "source": [
    "# X and y dataset\n",
    "X = data[[x for x in data.columns if x != 'buying']]\n",
    "y = data['buying']"
   ]
  },
  {
   "cell_type": "code",
   "execution_count": 10,
   "id": "573e980b",
   "metadata": {},
   "outputs": [],
   "source": [
    "X_train, X_test, y_train, y_test = train_test_split(X, y, test_size=0.3, random_state=123)"
   ]
  },
  {
   "cell_type": "code",
   "execution_count": 11,
   "id": "3b5d40b7",
   "metadata": {
    "cell_id": "00023-6424402e-0d59-4f5a-8e9c-ab7f081d91ed",
    "deepnote_cell_type": "code",
    "deepnote_to_be_reexecuted": true,
    "execution_millis": 83294,
    "execution_start": 1631633198285,
    "source_hash": "3c3c2848",
    "tags": []
   },
   "outputs": [
    {
     "name": "stdout",
     "output_type": "stream",
     "text": [
      "Best Accuracy score: 0.311 with parameters: {'base_estimator': DecisionTreeClassifier(max_depth=2, random_state=123), 'learning_rate': 0.01, 'n_estimators': 25}\n"
     ]
    }
   ],
   "source": [
    "# define hyperparameters for GridSearch and model tuning\n",
    "estimators = [\n",
    "    DecisionTreeClassifier(criterion='gini', max_depth=2, random_state=123), \n",
    "    DecisionTreeClassifier(criterion='gini', max_depth=3, random_state=123), \n",
    "    DecisionTreeClassifier(criterion='gini', max_depth=4, random_state=123), \n",
    "    DecisionTreeClassifier(criterion='entropy', max_depth=2, random_state=123), \n",
    "    DecisionTreeClassifier(criterion='entropy', max_depth=3, random_state=123),\n",
    "    DecisionTreeClassifier(criterion='entropy', max_depth=4, random_state=123), \n",
    "              ]\n",
    "\n",
    "hyperparameters = {'base_estimator':estimators, 'n_estimators': [5, 15, 25, 50], 'learning_rate':[0.01, 0.1, 0.5, 1]}\n",
    "\n",
    "# define evaluation procedure\n",
    "adaboost = GridSearchCV(AdaBoostClassifier(random_state=123), hyperparameters, cv=5, scoring=\"accuracy\", n_jobs=-1)\n",
    "adaboost.fit(X_train, y_train.values.ravel())\n",
    "print(f'Best Accuracy score: {adaboost.best_score_:.3f} with parameters: {adaboost.best_params_}')"
   ]
  },
  {
   "cell_type": "code",
   "execution_count": 12,
   "id": "3517f837",
   "metadata": {},
   "outputs": [
    {
     "name": "stdout",
     "output_type": "stream",
     "text": [
      "Accuracy: 29.7\n",
      "F1 Score: 27.4\n"
     ]
    }
   ],
   "source": [
    "adaboost_prediction = adaboost.predict(X_test)\n",
    "print(f'Accuracy: {accuracy_score(y_test, adaboost_prediction)*100:.1f}')\n",
    "print(f'F1 Score: {f1_score(y_test, adaboost_prediction, average=\"weighted\")*100:.1f}')"
   ]
  },
  {
   "cell_type": "code",
   "execution_count": 13,
   "id": "205451b5",
   "metadata": {},
   "outputs": [
    {
     "name": "stdout",
     "output_type": "stream",
     "text": [
      "              precision    recall  f1-score   support\n",
      "\n",
      "        high       0.24      0.23      0.24       120\n",
      "         low       0.85      0.12      0.22       137\n",
      "         med       0.21      0.22      0.22       134\n",
      "       vhigh       0.33      0.62      0.43       128\n",
      "\n",
      "    accuracy                           0.30       519\n",
      "   macro avg       0.41      0.30      0.27       519\n",
      "weighted avg       0.42      0.30      0.27       519\n",
      "\n"
     ]
    }
   ],
   "source": [
    "from sklearn.metrics import classification_report\n",
    "print(classification_report(y_test, adaboost_prediction))"
   ]
  },
  {
   "cell_type": "markdown",
   "id": "8bf590c9",
   "metadata": {},
   "source": [
    "## SVM "
   ]
  },
  {
   "cell_type": "code",
   "execution_count": 14,
   "id": "508625fd",
   "metadata": {},
   "outputs": [
    {
     "name": "stdout",
     "output_type": "stream",
     "text": [
      "Best Accuracy score: 0.313 with parameters: {'C': 0.1, 'decision_function_shape': 'ovr', 'gamma': 0.1, 'kernel': 'linear', 'tol': 0.001}\n"
     ]
    }
   ],
   "source": [
    "# SVM\n",
    "hyperparameters = {'kernel': ['linear', 'rbf', 'poly', 'sigmoid'], \n",
    "                   'C':[0.01, 0.1], \n",
    "                   'tol':[0.001, 0.01],\n",
    "                   'decision_function_shape':['ovr'],\n",
    "                   'gamma':[1e-1, 1e-2]\n",
    "                  }\n",
    "\n",
    "# define evaluation procedure\n",
    "svm = GridSearchCV(SVC(random_state=123), hyperparameters, scoring=\"accuracy\", cv=5, n_jobs=-1)\n",
    "svm.fit(X_train, y_train.values.ravel())\n",
    "print(f'Best Accuracy score: {svm.best_score_:.3f} with parameters: {svm.best_params_}')"
   ]
  },
  {
   "cell_type": "code",
   "execution_count": 15,
   "id": "23cbab9c",
   "metadata": {},
   "outputs": [
    {
     "name": "stdout",
     "output_type": "stream",
     "text": [
      "Accuracy: 32.2\n",
      "F1 Score: 31.9\n"
     ]
    }
   ],
   "source": [
    "svm_prediction = svm.predict(X_test)\n",
    "print(f'Accuracy: {accuracy_score(y_test, svm_prediction)*100:.1f}')\n",
    "print(f'F1 Score: {f1_score(y_test, svm_prediction, average=\"weighted\")*100:.1f}')"
   ]
  },
  {
   "cell_type": "code",
   "execution_count": 16,
   "id": "2db9011c",
   "metadata": {},
   "outputs": [
    {
     "name": "stdout",
     "output_type": "stream",
     "text": [
      "              precision    recall  f1-score   support\n",
      "\n",
      "        high       0.27      0.33      0.30       120\n",
      "         low       0.68      0.19      0.30       137\n",
      "         med       0.30      0.35      0.32       134\n",
      "       vhigh       0.31      0.42      0.36       128\n",
      "\n",
      "    accuracy                           0.32       519\n",
      "   macro avg       0.39      0.32      0.32       519\n",
      "weighted avg       0.40      0.32      0.32       519\n",
      "\n"
     ]
    }
   ],
   "source": [
    "from sklearn.metrics import classification_report\n",
    "print(classification_report(y_test, svm_prediction))"
   ]
  },
  {
   "cell_type": "markdown",
   "id": "2fa5126a",
   "metadata": {},
   "source": [
    "# Train Best Model on whole dataset "
   ]
  },
  {
   "cell_type": "code",
   "execution_count": 17,
   "id": "74ac676e",
   "metadata": {},
   "outputs": [
    {
     "data": {
      "text/plain": [
       "SVC(C=0.1, gamma=0.1, kernel='linear', random_state=123)"
      ]
     },
     "execution_count": 17,
     "metadata": {},
     "output_type": "execute_result"
    }
   ],
   "source": [
    "clf = SVC(random_state=123, **svm.best_params_)\n",
    "clf.fit(X, y.values.ravel())"
   ]
  }
 ],
 "metadata": {
  "deepnote": {
   "is_reactive": false
  },
  "deepnote_execution_queue": [
   {
    "cellId": "00022-c224aa68-f2f6-432d-8929-10d0d42eced8",
    "msgId": "d12bc48b-8e64-43ae-a0ed-ab555588d184",
    "sessionId": "64f8e695-c1c2-4537-8a0b-39cdb06aff66"
   },
   {
    "cellId": "00023-6424402e-0d59-4f5a-8e9c-ab7f081d91ed",
    "msgId": "b654cf8a-8956-4ffa-b159-bc64e49b47d5",
    "sessionId": "64f8e695-c1c2-4537-8a0b-39cdb06aff66"
   },
   {
    "cellId": "00015-349cba68-c0b1-458c-848b-9e2f9ffcab5b",
    "msgId": "50d24acb-641c-412f-b549-6e48f50a0431",
    "sessionId": "64f8e695-c1c2-4537-8a0b-39cdb06aff66"
   },
   {
    "cellId": "00017-5e63eede-3ce5-4918-9378-e5c726b767a3",
    "msgId": "77526c52-98d8-40ad-adeb-77a557d7f3b8",
    "sessionId": "64f8e695-c1c2-4537-8a0b-39cdb06aff66"
   },
   {
    "cellId": "00018-703f9396-6276-43f9-a7a1-cb6ab8f3f919",
    "msgId": "aca71423-4a13-4d04-a66c-fc1931e079f9",
    "sessionId": "64f8e695-c1c2-4537-8a0b-39cdb06aff66"
   },
   {
    "cellId": "00020-a309828f-48ee-49fa-af37-21b0914714ca",
    "msgId": "a52c6c69-8b96-4ee5-9e27-88b3a4d7e4ea",
    "sessionId": "64f8e695-c1c2-4537-8a0b-39cdb06aff66"
   },
   {
    "cellId": "00016-4c3ef63d-7401-4182-93b1-69456d9e14a6",
    "msgId": "0a9a8834-a785-4cae-8129-f338037042d7",
    "sessionId": "64f8e695-c1c2-4537-8a0b-39cdb06aff66"
   },
   {
    "cellId": "00017-ac700522-d234-414d-a0dc-7ab0bf93f9f3",
    "msgId": "1c2ab5fb-97ff-4eea-8613-1acc2aad9c1d",
    "sessionId": "64f8e695-c1c2-4537-8a0b-39cdb06aff66"
   },
   {
    "cellId": "00018-ad942efc-e1db-4b19-a5d7-ad954c7945f3",
    "msgId": "e60e6d69-52f9-4d26-aef2-04e87e48d1c3",
    "sessionId": "64f8e695-c1c2-4537-8a0b-39cdb06aff66"
   },
   {
    "cellId": "00026-601c5b52-ab3c-42aa-b6e1-a058b7cdf0d7",
    "msgId": "39787fdf-8894-45c3-aeca-6f8926519cfc",
    "sessionId": "64f8e695-c1c2-4537-8a0b-39cdb06aff66"
   },
   {
    "cellId": "00020-803c881c-8791-47d1-97f6-eac7e0557aa3",
    "msgId": "e72f68fd-aaad-4bbb-b5c8-6edceb0e237a",
    "sessionId": "64f8e695-c1c2-4537-8a0b-39cdb06aff66"
   },
   {
    "cellId": "00022-54759871-f47a-4b79-99b5-c72041b40295",
    "msgId": "aedfae26-10a7-4c41-a4a1-396ee4be3b2d",
    "sessionId": "64f8e695-c1c2-4537-8a0b-39cdb06aff66"
   }
  ],
  "deepnote_notebook_id": "40d04281-7fd2-4cb6-9982-164b867e3a5d",
  "kernelspec": {
   "display_name": "Python 3",
   "language": "python",
   "name": "python3"
  },
  "language_info": {
   "codemirror_mode": {
    "name": "ipython",
    "version": 3
   },
   "file_extension": ".py",
   "mimetype": "text/x-python",
   "name": "python",
   "nbconvert_exporter": "python",
   "pygments_lexer": "ipython3",
   "version": "3.8.8"
  }
 },
 "nbformat": 4,
 "nbformat_minor": 5
}
