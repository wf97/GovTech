{
 "cells": [
  {
   "cell_type": "code",
   "execution_count": 1,
   "id": "9941aec5",
   "metadata": {},
   "outputs": [
    {
     "name": "stderr",
     "output_type": "stream",
     "text": [
      "WARNING:root:OSError while attempting to symlink the latest log directory\n"
     ]
    }
   ],
   "source": [
    "import pandas as pd\n",
    "\n",
    "from airflow import DAG\n",
    "from airflow.operators.bash import BashOperator\n",
    "from airflow.operators.dummy import DummyOperator\n",
    "import pytz\n",
    "from datetime import datetime, timedelta"
   ]
  },
  {
   "cell_type": "code",
   "execution_count": 3,
   "id": "93761819",
   "metadata": {},
   "outputs": [],
   "source": [
    "# Pipeline Process\n",
    "def process_data():\n",
    "    data1 = pd.read_csv('./dataset1.csv')\n",
    "    data2 = pd.read_csv('./dataset2.csv')\n",
    "    data = pd.concat([data1, data2], axis=0, ignore_index=True)\n",
    "    data = data.dropna(axis=0, subset=['name'])\n",
    "    data['name'] = data['name'].replace(['Miss ','Mr\\. ','Ms\\. ', 'Mrs\\. ', 'Dr\\. '],'', regex=True)\n",
    "    data[['first_name', 'last_name']] = data['name'].str.split(' ', 1, expand=True)\n",
    "    data.to_csv('./test.csv', index=False)"
   ]
  },
  {
   "cell_type": "code",
   "execution_count": 4,
   "id": "7b6a3b6b",
   "metadata": {},
   "outputs": [],
   "source": [
    "today = datetime.today().replace(hour=0, minute=0, second=0, microsecond=0)"
   ]
  },
  {
   "cell_type": "code",
   "execution_count": 9,
   "id": "ee57e172",
   "metadata": {},
   "outputs": [],
   "source": [
    "default_args = {\n",
    "    'owner': 'airflow',\n",
    "    'depends_on_past': False,\n",
    "    'start_date': today,\n",
    "#     'email': ['airflow@example.com'],\n",
    "#     'email_on_failure': False,\n",
    "#     'email_on_retry': False,\n",
    "    'retries': 1,\n",
    "    'retry_delay': timedelta(minutes=5),\n",
    "    'schedule_interval': '0 1 * * *'\n",
    "}\n",
    "\n",
    "\n",
    "dag = DAG(dag_id='testing_stuff',\n",
    "          default_args=default_args,\n",
    "#           schedule_interval='0,10,20,30,40,50 * * * *',\n",
    "          dagrun_timeout=timedelta(seconds=120))"
   ]
  },
  {
   "cell_type": "code",
   "execution_count": 10,
   "id": "45bf02ac",
   "metadata": {},
   "outputs": [],
   "source": [
    "t1 = BashOperator(task_id='task_1',  bash_command='python data_processing.py', dag=dag)"
   ]
  },
  {
   "cell_type": "code",
   "execution_count": null,
   "id": "4f78dbab",
   "metadata": {},
   "outputs": [],
   "source": [
    "with DAG(\n",
    "        dag_id=\"data_processing_pipeline\",\n",
    "        schedule_interval='0 1 * * *',\n",
    "        default_args={\n",
    "            \"owner\": \"airflow\",\n",
    "            \"retries\": 1,\n",
    "            \"retry_delay\": timedelta(minutes=5),\n",
    "            \"start_date\": datetime(2021, 1, 1),\n",
    "        },\n",
    "        catchup=False) as f:\n",
    "\n",
    "    first_function_execute = DummyOperator(\n",
    "        task_id=\"start\",\n",
    "    )\n",
    "\n",
    "    second_function_execute = PythonOperator(\n",
    "        task_id=\"process_data\",\n",
    "        python_callable=process_data,\n",
    "        provide_context=True,\n",
    "    )\n",
    "\n",
    "first_function_execute >> "
   ]
  },
  {
   "cell_type": "code",
   "execution_count": null,
   "id": "371f3f5e",
   "metadata": {},
   "outputs": [],
   "source": [
    "\n",
    "with DAG('data_pipeline', catchup=False, default_args=default_args) as dag\n",
    "\n",
    "default_args = {\n",
    "    'owner': 'airflow',\n",
    "    'depends_on_past': False,\n",
    "    'start_date': datetime.today().replace(hour=0, minute=0, second=0, microsecond=0),\n",
    "    'email': ['airflow@example.com'],\n",
    "    'email_on_failure': False,\n",
    "    'email_on_retry': False,\n",
    "    'retries': 1,\n",
    "    'retry_delay': timedelta(minutes=5),\n",
    "    'schedule_interval': '0 1 * * *'\n",
    "}\n",
    "\n",
    "dag = "
   ]
  },
  {
   "cell_type": "code",
   "execution_count": null,
   "id": "60f5d9f5",
   "metadata": {},
   "outputs": [],
   "source": []
  },
  {
   "cell_type": "code",
   "execution_count": null,
   "id": "3e1c7ab0",
   "metadata": {},
   "outputs": [],
   "source": []
  },
  {
   "cell_type": "code",
   "execution_count": null,
   "id": "4c603e4c",
   "metadata": {},
   "outputs": [],
   "source": []
  },
  {
   "cell_type": "code",
   "execution_count": null,
   "id": "59e4b49a",
   "metadata": {},
   "outputs": [],
   "source": []
  },
  {
   "cell_type": "code",
   "execution_count": null,
   "id": "4ebbfe53",
   "metadata": {},
   "outputs": [],
   "source": []
  },
  {
   "cell_type": "code",
   "execution_count": null,
   "id": "ae18f53d",
   "metadata": {},
   "outputs": [],
   "source": []
  },
  {
   "cell_type": "code",
   "execution_count": null,
   "id": "b176531b",
   "metadata": {},
   "outputs": [],
   "source": []
  }
 ],
 "metadata": {
  "deepnote": {
   "is_reactive": false
  },
  "deepnote_execution_queue": [
   {
    "cellId": "00022-c224aa68-f2f6-432d-8929-10d0d42eced8",
    "msgId": "d12bc48b-8e64-43ae-a0ed-ab555588d184",
    "sessionId": "64f8e695-c1c2-4537-8a0b-39cdb06aff66"
   },
   {
    "cellId": "00023-6424402e-0d59-4f5a-8e9c-ab7f081d91ed",
    "msgId": "b654cf8a-8956-4ffa-b159-bc64e49b47d5",
    "sessionId": "64f8e695-c1c2-4537-8a0b-39cdb06aff66"
   },
   {
    "cellId": "00015-349cba68-c0b1-458c-848b-9e2f9ffcab5b",
    "msgId": "50d24acb-641c-412f-b549-6e48f50a0431",
    "sessionId": "64f8e695-c1c2-4537-8a0b-39cdb06aff66"
   },
   {
    "cellId": "00017-5e63eede-3ce5-4918-9378-e5c726b767a3",
    "msgId": "77526c52-98d8-40ad-adeb-77a557d7f3b8",
    "sessionId": "64f8e695-c1c2-4537-8a0b-39cdb06aff66"
   },
   {
    "cellId": "00018-703f9396-6276-43f9-a7a1-cb6ab8f3f919",
    "msgId": "aca71423-4a13-4d04-a66c-fc1931e079f9",
    "sessionId": "64f8e695-c1c2-4537-8a0b-39cdb06aff66"
   },
   {
    "cellId": "00020-a309828f-48ee-49fa-af37-21b0914714ca",
    "msgId": "a52c6c69-8b96-4ee5-9e27-88b3a4d7e4ea",
    "sessionId": "64f8e695-c1c2-4537-8a0b-39cdb06aff66"
   },
   {
    "cellId": "00016-4c3ef63d-7401-4182-93b1-69456d9e14a6",
    "msgId": "0a9a8834-a785-4cae-8129-f338037042d7",
    "sessionId": "64f8e695-c1c2-4537-8a0b-39cdb06aff66"
   },
   {
    "cellId": "00017-ac700522-d234-414d-a0dc-7ab0bf93f9f3",
    "msgId": "1c2ab5fb-97ff-4eea-8613-1acc2aad9c1d",
    "sessionId": "64f8e695-c1c2-4537-8a0b-39cdb06aff66"
   },
   {
    "cellId": "00018-ad942efc-e1db-4b19-a5d7-ad954c7945f3",
    "msgId": "e60e6d69-52f9-4d26-aef2-04e87e48d1c3",
    "sessionId": "64f8e695-c1c2-4537-8a0b-39cdb06aff66"
   },
   {
    "cellId": "00026-601c5b52-ab3c-42aa-b6e1-a058b7cdf0d7",
    "msgId": "39787fdf-8894-45c3-aeca-6f8926519cfc",
    "sessionId": "64f8e695-c1c2-4537-8a0b-39cdb06aff66"
   },
   {
    "cellId": "00020-803c881c-8791-47d1-97f6-eac7e0557aa3",
    "msgId": "e72f68fd-aaad-4bbb-b5c8-6edceb0e237a",
    "sessionId": "64f8e695-c1c2-4537-8a0b-39cdb06aff66"
   },
   {
    "cellId": "00022-54759871-f47a-4b79-99b5-c72041b40295",
    "msgId": "aedfae26-10a7-4c41-a4a1-396ee4be3b2d",
    "sessionId": "64f8e695-c1c2-4537-8a0b-39cdb06aff66"
   }
  ],
  "deepnote_notebook_id": "40d04281-7fd2-4cb6-9982-164b867e3a5d",
  "kernelspec": {
   "display_name": "Python 3",
   "language": "python",
   "name": "python3"
  },
  "language_info": {
   "codemirror_mode": {
    "name": "ipython",
    "version": 3
   },
   "file_extension": ".py",
   "mimetype": "text/x-python",
   "name": "python",
   "nbconvert_exporter": "python",
   "pygments_lexer": "ipython3",
   "version": "3.8.8"
  }
 },
 "nbformat": 4,
 "nbformat_minor": 5
}
