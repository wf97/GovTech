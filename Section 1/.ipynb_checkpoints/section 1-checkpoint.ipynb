{
 "cells": [
  {
   "cell_type": "code",
   "execution_count": 96,
   "id": "4e1e5b00",
   "metadata": {},
   "outputs": [],
   "source": [
    "import pandas as pd\n",
    "\n",
    "from airflow import DAG\n",
    "from airflow.operators.bash import BashOperator\n",
    "from datetime import datetime, timedelta"
   ]
  },
  {
   "cell_type": "code",
   "execution_count": 5,
   "id": "5a3d7f6d",
   "metadata": {},
   "outputs": [],
   "source": [
    "\n",
    "\n",
    "default_args = {\n",
    "    'owner': 'airflow',\n",
    "    'depends_on_past': False,\n",
    "    'start_date': datetime(2015, 12, 1),\n",
    "    'email': ['airflow@example.com'],\n",
    "    'email_on_failure': False,\n",
    "    'email_on_retry': False,\n",
    "    'retries': 1,\n",
    "    'retry_delay': timedelta(minutes=5),\n",
    "    'schedule_interval': '0 1 * * *'\n",
    "}\n",
    "\n",
    "dag = DAG('data_pipline', catchup=False, default_args=default_args)"
   ]
  },
  {
   "cell_type": "code",
   "execution_count": 97,
   "id": "ca69530e",
   "metadata": {},
   "outputs": [],
   "source": [
    "data1 = pd.read_csv('./dataset1.csv')\n",
    "data2 = pd.read_csv('./dataset2.csv')"
   ]
  },
  {
   "cell_type": "code",
   "execution_count": 98,
   "id": "9b589161",
   "metadata": {},
   "outputs": [],
   "source": [
    "data = pd.concat([data1, data2], axis=0, ignore_index=True)\n",
    "data = data.dropna(axis=0, subset=['name'])"
   ]
  },
  {
   "cell_type": "code",
   "execution_count": 99,
   "id": "29e3ab2b",
   "metadata": {},
   "outputs": [],
   "source": [
    "data['name'] = data['name'].replace(['Miss ','Mr\\. ','Ms\\. ', 'Mrs\\. ', 'Dr\\. '],'', regex=True)\n",
    "data[['first_name', 'last_name']] = data['name'].str.split(' ', 1, expand=True)"
   ]
  },
  {
   "cell_type": "code",
   "execution_count": 100,
   "id": "15b24a11",
   "metadata": {},
   "outputs": [],
   "source": [
    "data.to_csv('./test.csv', index=False)"
   ]
  },
  {
   "cell_type": "code",
   "execution_count": 62,
   "id": "07b87ccc",
   "metadata": {},
   "outputs": [],
   "source": []
  },
  {
   "cell_type": "code",
   "execution_count": null,
   "id": "f3d25bef",
   "metadata": {},
   "outputs": [],
   "source": []
  },
  {
   "cell_type": "code",
   "execution_count": null,
   "id": "6b676695",
   "metadata": {},
   "outputs": [],
   "source": []
  }
 ],
 "metadata": {
  "deepnote": {
   "is_reactive": false
  },
  "deepnote_execution_queue": [
   {
    "cellId": "00022-c224aa68-f2f6-432d-8929-10d0d42eced8",
    "msgId": "d12bc48b-8e64-43ae-a0ed-ab555588d184",
    "sessionId": "64f8e695-c1c2-4537-8a0b-39cdb06aff66"
   },
   {
    "cellId": "00023-6424402e-0d59-4f5a-8e9c-ab7f081d91ed",
    "msgId": "b654cf8a-8956-4ffa-b159-bc64e49b47d5",
    "sessionId": "64f8e695-c1c2-4537-8a0b-39cdb06aff66"
   },
   {
    "cellId": "00015-349cba68-c0b1-458c-848b-9e2f9ffcab5b",
    "msgId": "50d24acb-641c-412f-b549-6e48f50a0431",
    "sessionId": "64f8e695-c1c2-4537-8a0b-39cdb06aff66"
   },
   {
    "cellId": "00017-5e63eede-3ce5-4918-9378-e5c726b767a3",
    "msgId": "77526c52-98d8-40ad-adeb-77a557d7f3b8",
    "sessionId": "64f8e695-c1c2-4537-8a0b-39cdb06aff66"
   },
   {
    "cellId": "00018-703f9396-6276-43f9-a7a1-cb6ab8f3f919",
    "msgId": "aca71423-4a13-4d04-a66c-fc1931e079f9",
    "sessionId": "64f8e695-c1c2-4537-8a0b-39cdb06aff66"
   },
   {
    "cellId": "00020-a309828f-48ee-49fa-af37-21b0914714ca",
    "msgId": "a52c6c69-8b96-4ee5-9e27-88b3a4d7e4ea",
    "sessionId": "64f8e695-c1c2-4537-8a0b-39cdb06aff66"
   },
   {
    "cellId": "00016-4c3ef63d-7401-4182-93b1-69456d9e14a6",
    "msgId": "0a9a8834-a785-4cae-8129-f338037042d7",
    "sessionId": "64f8e695-c1c2-4537-8a0b-39cdb06aff66"
   },
   {
    "cellId": "00017-ac700522-d234-414d-a0dc-7ab0bf93f9f3",
    "msgId": "1c2ab5fb-97ff-4eea-8613-1acc2aad9c1d",
    "sessionId": "64f8e695-c1c2-4537-8a0b-39cdb06aff66"
   },
   {
    "cellId": "00018-ad942efc-e1db-4b19-a5d7-ad954c7945f3",
    "msgId": "e60e6d69-52f9-4d26-aef2-04e87e48d1c3",
    "sessionId": "64f8e695-c1c2-4537-8a0b-39cdb06aff66"
   },
   {
    "cellId": "00026-601c5b52-ab3c-42aa-b6e1-a058b7cdf0d7",
    "msgId": "39787fdf-8894-45c3-aeca-6f8926519cfc",
    "sessionId": "64f8e695-c1c2-4537-8a0b-39cdb06aff66"
   },
   {
    "cellId": "00020-803c881c-8791-47d1-97f6-eac7e0557aa3",
    "msgId": "e72f68fd-aaad-4bbb-b5c8-6edceb0e237a",
    "sessionId": "64f8e695-c1c2-4537-8a0b-39cdb06aff66"
   },
   {
    "cellId": "00022-54759871-f47a-4b79-99b5-c72041b40295",
    "msgId": "aedfae26-10a7-4c41-a4a1-396ee4be3b2d",
    "sessionId": "64f8e695-c1c2-4537-8a0b-39cdb06aff66"
   }
  ],
  "deepnote_notebook_id": "40d04281-7fd2-4cb6-9982-164b867e3a5d",
  "kernelspec": {
   "display_name": "Python 3",
   "language": "python",
   "name": "python3"
  },
  "language_info": {
   "codemirror_mode": {
    "name": "ipython",
    "version": 3
   },
   "file_extension": ".py",
   "mimetype": "text/x-python",
   "name": "python",
   "nbconvert_exporter": "python",
   "pygments_lexer": "ipython3",
   "version": "3.8.8"
  }
 },
 "nbformat": 4,
 "nbformat_minor": 5
}
